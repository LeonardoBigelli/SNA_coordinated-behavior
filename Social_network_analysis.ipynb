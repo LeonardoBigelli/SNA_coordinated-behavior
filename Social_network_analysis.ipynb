{
  "nbformat": 4,
  "nbformat_minor": 0,
  "metadata": {
    "colab": {
      "provenance": [],
      "gpuType": "T4"
    },
    "kernelspec": {
      "name": "python3",
      "display_name": "Python 3"
    },
    "language_info": {
      "name": "python"
    },
    "accelerator": "GPU"
  },
  "cells": [
    {
      "cell_type": "markdown",
      "source": [
        "# Progetto d'esame di Social Network Analysis\n",
        "### Leonardo Bigelli\n",
        "Sviluppo di una rete neurale per il rilevamento di attività coordinate all'interno di account presente in un Social Network."
      ],
      "metadata": {
        "id": "WQIirZ4OIsYW"
      }
    },
    {
      "cell_type": "markdown",
      "source": [
        "### Import librerie necessarie per lo sviluppo"
      ],
      "metadata": {
        "id": "RQSjaSWuJPwq"
      }
    },
    {
      "cell_type": "code",
      "execution_count": null,
      "metadata": {
        "id": "vbMd6wsXmw3n"
      },
      "outputs": [],
      "source": [
        "import numpy as np\n",
        "import tensorflow as tf\n",
        "from tensorflow.keras import layers, Model\n",
        "from sklearn.model_selection import train_test_split\n",
        "import pandas as pd"
      ]
    },
    {
      "cell_type": "markdown",
      "source": [
        "### Caricamento dei dati simulati\n",
        "Necessario un caricamento in locale"
      ],
      "metadata": {
        "id": "mMTJbfehJgs0"
      }
    },
    {
      "cell_type": "code",
      "source": [
        "df = pd.read_csv('dataset.csv')"
      ],
      "metadata": {
        "id": "mLg3Hdlmwq5f"
      },
      "execution_count": null,
      "outputs": []
    },
    {
      "cell_type": "code",
      "source": [
        "# I dati vengono simulati con nomi alfanumerici, quindi è necessaria una conversione per usarli come\n",
        "# input per una rete neurale\n",
        "df['account_id'] = df['account_id'].str.replace('account_', '', regex=False)\n",
        "df['account_id'] = df['account_id'].astype(int)\n",
        "\n",
        "df['account_id_y'] = df['account_id_y'].str.replace('account_', '', regex=False)\n",
        "df['account_id_y'] = df['account_id_y'].astype(int)\n",
        "\n",
        "df['object_id'] = df['object_id'].str.replace('object_', '', regex=False)\n",
        "df['object_id'] = df['object_id'].astype(int)\n",
        "\n",
        "df['content_id'] = df['content_id'].str.replace('share_', '', regex=False)\n",
        "df['content_id'] = df['content_id'].astype(int)\n",
        "\n",
        "df['content_id_y'] = df['content_id_y'].str.replace('share_', '', regex=False)\n",
        "df['content_id_y'] = df['content_id_y'].astype(int)\n",
        "\n",
        "df['time_delta'] = df['time_delta'].astype(int)"
      ],
      "metadata": {
        "id": "IKr1ouypyvSN"
      },
      "execution_count": null,
      "outputs": []
    },
    {
      "cell_type": "code",
      "source": [
        "try:\n",
        "  x = df[['object_id', 'content_id','content_id_y','time_delta',\n",
        "          'account_id', 'account_id_y']].values\n",
        "  y = df['coordinated'].values\n",
        "  x = np.array(x)\n",
        "  y = np.array(y).astype(int)\n",
        "  print(\"x shape:\", x.shape)\n",
        "  print(\"y shape:\", y.shape)\n",
        "except NameError:\n",
        "  print(\"Errore: df non trovato\")\n",
        "except KeyError as e:\n",
        "    print(f\"Errore: colonna {e} non trovata\")\n",
        "except Exception as e:\n",
        "  print(f\"Errore: {e}\")\n"
      ],
      "metadata": {
        "colab": {
          "base_uri": "https://localhost:8080/"
        },
        "id": "UO5SbITJxalo",
        "outputId": "08f0b14b-6996-40e6-ad83-7b4cbaaaf59c"
      },
      "execution_count": null,
      "outputs": [
        {
          "output_type": "stream",
          "name": "stdout",
          "text": [
            "x shape: (897039, 6)\n",
            "y shape: (897039,)\n"
          ]
        }
      ]
    },
    {
      "cell_type": "code",
      "source": [
        "y = y.astype(int)"
      ],
      "metadata": {
        "id": "MJ4TB7yFKJm1"
      },
      "execution_count": null,
      "outputs": []
    },
    {
      "cell_type": "code",
      "source": [
        "# Suddivisione in train e test\n",
        "x_train, x_test, y_train, y_test = train_test_split(x, y, test_size=0.2, random_state=42)"
      ],
      "metadata": {
        "id": "g8GPpYVd4GN0"
      },
      "execution_count": null,
      "outputs": []
    },
    {
      "cell_type": "markdown",
      "source": [
        "### Definizione e addestramento del modello"
      ],
      "metadata": {
        "id": "FUg5ba1UJ1D8"
      }
    },
    {
      "cell_type": "code",
      "source": [
        "# Definizione del modello per il riconoscimento di atività coordinate\n",
        "model = tf.keras.Sequential([\n",
        "    layers.Dense(16, activation='relu', input_shape=(x_train.shape[1],)),  # Primo layer nascosto\n",
        "    layers.Dropout(0.2),\n",
        "    layers.Dense(8, activation='relu'),  # Secondo layer nascosto\n",
        "    layers.Dropout(0.2),\n",
        "    layers.Dense(1, activation='sigmoid')  # Output layer per classificazione binaria\n",
        "])\n",
        "\n",
        "# Compilazione del modello\n",
        "model.compile(optimizer='adam',\n",
        "              loss='binary_crossentropy',  # Funzione di perdita per problemi binari\n",
        "              metrics=['accuracy'])\n",
        "\n",
        "# Addestramento del modello\n",
        "model.fit(x_train, y_train, epochs=20, batch_size=32)"
      ],
      "metadata": {
        "colab": {
          "base_uri": "https://localhost:8080/"
        },
        "id": "ssSQyNE-xypY",
        "outputId": "b549e6dd-a97d-4389-ff51-fd4f03b58092"
      },
      "execution_count": null,
      "outputs": [
        {
          "metadata": {
            "tags": null
          },
          "name": "stderr",
          "output_type": "stream",
          "text": [
            "/usr/local/lib/python3.11/dist-packages/keras/src/layers/core/dense.py:87: UserWarning: Do not pass an `input_shape`/`input_dim` argument to a layer. When using Sequential models, prefer using an `Input(shape)` object as the first layer in the model instead.\n",
            "  super().__init__(activity_regularizer=activity_regularizer, **kwargs)\n"
          ]
        },
        {
          "output_type": "stream",
          "name": "stdout",
          "text": [
            "Epoch 1/20\n",
            "\u001b[1m22426/22426\u001b[0m \u001b[32m━━━━━━━━━━━━━━━━━━━━\u001b[0m\u001b[37m\u001b[0m \u001b[1m57s\u001b[0m 2ms/step - accuracy: 0.9846 - loss: 12.8501\n",
            "Epoch 2/20\n",
            "\u001b[1m22426/22426\u001b[0m \u001b[32m━━━━━━━━━━━━━━━━━━━━\u001b[0m\u001b[37m\u001b[0m \u001b[1m77s\u001b[0m 2ms/step - accuracy: 0.9966 - loss: 0.0184\n",
            "Epoch 3/20\n",
            "\u001b[1m22426/22426\u001b[0m \u001b[32m━━━━━━━━━━━━━━━━━━━━\u001b[0m\u001b[37m\u001b[0m \u001b[1m52s\u001b[0m 2ms/step - accuracy: 0.9966 - loss: 0.0174\n",
            "Epoch 4/20\n",
            "\u001b[1m22426/22426\u001b[0m \u001b[32m━━━━━━━━━━━━━━━━━━━━\u001b[0m\u001b[37m\u001b[0m \u001b[1m81s\u001b[0m 2ms/step - accuracy: 0.9966 - loss: 0.0166\n",
            "Epoch 5/20\n",
            "\u001b[1m22426/22426\u001b[0m \u001b[32m━━━━━━━━━━━━━━━━━━━━\u001b[0m\u001b[37m\u001b[0m \u001b[1m53s\u001b[0m 2ms/step - accuracy: 0.9967 - loss: 0.0160\n",
            "Epoch 6/20\n",
            "\u001b[1m22426/22426\u001b[0m \u001b[32m━━━━━━━━━━━━━━━━━━━━\u001b[0m\u001b[37m\u001b[0m \u001b[1m52s\u001b[0m 2ms/step - accuracy: 0.9967 - loss: 0.0156\n",
            "Epoch 7/20\n",
            "\u001b[1m22426/22426\u001b[0m \u001b[32m━━━━━━━━━━━━━━━━━━━━\u001b[0m\u001b[37m\u001b[0m \u001b[1m51s\u001b[0m 2ms/step - accuracy: 0.9967 - loss: 0.0159\n",
            "Epoch 8/20\n",
            "\u001b[1m22426/22426\u001b[0m \u001b[32m━━━━━━━━━━━━━━━━━━━━\u001b[0m\u001b[37m\u001b[0m \u001b[1m51s\u001b[0m 2ms/step - accuracy: 0.9967 - loss: 0.0162\n",
            "Epoch 9/20\n",
            "\u001b[1m22426/22426\u001b[0m \u001b[32m━━━━━━━━━━━━━━━━━━━━\u001b[0m\u001b[37m\u001b[0m \u001b[1m52s\u001b[0m 2ms/step - accuracy: 0.9966 - loss: 0.0153\n",
            "Epoch 10/20\n",
            "\u001b[1m22426/22426\u001b[0m \u001b[32m━━━━━━━━━━━━━━━━━━━━\u001b[0m\u001b[37m\u001b[0m \u001b[1m52s\u001b[0m 2ms/step - accuracy: 0.9967 - loss: 0.0154\n",
            "Epoch 11/20\n",
            "\u001b[1m22426/22426\u001b[0m \u001b[32m━━━━━━━━━━━━━━━━━━━━\u001b[0m\u001b[37m\u001b[0m \u001b[1m82s\u001b[0m 2ms/step - accuracy: 0.9967 - loss: 0.0146\n",
            "Epoch 12/20\n",
            "\u001b[1m22426/22426\u001b[0m \u001b[32m━━━━━━━━━━━━━━━━━━━━\u001b[0m\u001b[37m\u001b[0m \u001b[1m51s\u001b[0m 2ms/step - accuracy: 0.9965 - loss: 0.0153\n",
            "Epoch 13/20\n",
            "\u001b[1m22426/22426\u001b[0m \u001b[32m━━━━━━━━━━━━━━━━━━━━\u001b[0m\u001b[37m\u001b[0m \u001b[1m51s\u001b[0m 2ms/step - accuracy: 0.9966 - loss: 0.0149\n",
            "Epoch 14/20\n",
            "\u001b[1m22426/22426\u001b[0m \u001b[32m━━━━━━━━━━━━━━━━━━━━\u001b[0m\u001b[37m\u001b[0m \u001b[1m52s\u001b[0m 2ms/step - accuracy: 0.9965 - loss: 0.0149\n",
            "Epoch 15/20\n",
            "\u001b[1m22426/22426\u001b[0m \u001b[32m━━━━━━━━━━━━━━━━━━━━\u001b[0m\u001b[37m\u001b[0m \u001b[1m81s\u001b[0m 2ms/step - accuracy: 0.9966 - loss: 0.0148\n",
            "Epoch 16/20\n",
            "\u001b[1m22426/22426\u001b[0m \u001b[32m━━━━━━━━━━━━━━━━━━━━\u001b[0m\u001b[37m\u001b[0m \u001b[1m83s\u001b[0m 2ms/step - accuracy: 0.9967 - loss: 0.0140\n",
            "Epoch 17/20\n",
            "\u001b[1m22426/22426\u001b[0m \u001b[32m━━━━━━━━━━━━━━━━━━━━\u001b[0m\u001b[37m\u001b[0m \u001b[1m53s\u001b[0m 2ms/step - accuracy: 0.9966 - loss: 0.0143\n",
            "Epoch 18/20\n",
            "\u001b[1m22426/22426\u001b[0m \u001b[32m━━━━━━━━━━━━━━━━━━━━\u001b[0m\u001b[37m\u001b[0m \u001b[1m81s\u001b[0m 2ms/step - accuracy: 0.9967 - loss: 0.0145\n",
            "Epoch 19/20\n",
            "\u001b[1m22426/22426\u001b[0m \u001b[32m━━━━━━━━━━━━━━━━━━━━\u001b[0m\u001b[37m\u001b[0m \u001b[1m53s\u001b[0m 2ms/step - accuracy: 0.9966 - loss: 0.0140\n",
            "Epoch 20/20\n",
            "\u001b[1m22426/22426\u001b[0m \u001b[32m━━━━━━━━━━━━━━━━━━━━\u001b[0m\u001b[37m\u001b[0m \u001b[1m52s\u001b[0m 2ms/step - accuracy: 0.9966 - loss: 0.0143\n"
          ]
        },
        {
          "output_type": "execute_result",
          "data": {
            "text/plain": [
              "<keras.src.callbacks.history.History at 0x7c392a275e10>"
            ]
          },
          "metadata": {},
          "execution_count": 16
        }
      ]
    },
    {
      "cell_type": "code",
      "source": [
        "# Valutazione del modello\n",
        "model.evaluate(x_test, y_test)"
      ],
      "metadata": {
        "colab": {
          "base_uri": "https://localhost:8080/"
        },
        "id": "6dtEeYHizpn-",
        "outputId": "85a1fb02-9107-46a9-87bc-b8cd1be1ebc1"
      },
      "execution_count": null,
      "outputs": [
        {
          "output_type": "stream",
          "name": "stdout",
          "text": [
            "\u001b[1m5607/5607\u001b[0m \u001b[32m━━━━━━━━━━━━━━━━━━━━\u001b[0m\u001b[37m\u001b[0m \u001b[1m12s\u001b[0m 2ms/step - accuracy: 0.9962 - loss: 0.0129\n"
          ]
        },
        {
          "output_type": "execute_result",
          "data": {
            "text/plain": [
              "[0.011958499439060688, 0.9965330362319946]"
            ]
          },
          "metadata": {},
          "execution_count": 17
        }
      ]
    },
    {
      "cell_type": "markdown",
      "source": [
        "### Salvataggio del modello su Drive"
      ],
      "metadata": {
        "id": "TUhFN88dJ680"
      }
    },
    {
      "cell_type": "code",
      "source": [
        "from google.colab import drive\n",
        "drive.mount('/content/drive')"
      ],
      "metadata": {
        "id": "xFCt6sTe4aZN",
        "colab": {
          "base_uri": "https://localhost:8080/"
        },
        "outputId": "5d52a373-334b-4962-a82e-2abb05fac72d"
      },
      "execution_count": null,
      "outputs": [
        {
          "output_type": "stream",
          "name": "stdout",
          "text": [
            "Mounted at /content/drive\n"
          ]
        }
      ]
    },
    {
      "cell_type": "code",
      "source": [
        "# Salvataggio del modello sul Drive\n",
        "model.save('/content/drive/MyDrive/Social_network_analysis/modello_coordinamento.keras')"
      ],
      "metadata": {
        "id": "cSlPBJjnODIh"
      },
      "execution_count": null,
      "outputs": []
    },
    {
      "cell_type": "code",
      "source": [
        "#test sul dataset che ha diverse time_window rispetto alla fase di training (nnecessario il caricamento)\n",
        "model.evaluate(x, y)"
      ],
      "metadata": {
        "colab": {
          "base_uri": "https://localhost:8080/"
        },
        "id": "U4G14TrRQVfV",
        "outputId": "ccb780c7-96eb-4044-e986-c7b626def7aa"
      },
      "execution_count": null,
      "outputs": [
        {
          "output_type": "stream",
          "name": "stdout",
          "text": [
            "\u001b[1m14013/14013\u001b[0m \u001b[32m━━━━━━━━━━━━━━━━━━━━\u001b[0m\u001b[37m\u001b[0m \u001b[1m29s\u001b[0m 2ms/step - accuracy: 0.9973 - loss: 0.0093\n"
          ]
        },
        {
          "output_type": "execute_result",
          "data": {
            "text/plain": [
              "[0.010705000720918179, 0.9969046115875244]"
            ]
          },
          "metadata": {},
          "execution_count": 15
        }
      ]
    },
    {
      "cell_type": "markdown",
      "source": [
        "## Caricamento del modello pre-addestrato, per valutazione su dati con diversi time_window\n",
        "I datidevono essere caricati nella cella predisposta al caricamento. Si utilizza 'x' e 'y' non suddivisi in train e test in quanto non è necessario addestrare nuovamente il modello."
      ],
      "metadata": {
        "id": "OrpNPdw8wZqO"
      }
    },
    {
      "cell_type": "code",
      "source": [
        "model = tf.keras.models.load_model('/content/drive/MyDrive/Social_network_analysis/modello_coordinamento.keras')"
      ],
      "metadata": {
        "id": "_lYajUYOQgln"
      },
      "execution_count": null,
      "outputs": []
    },
    {
      "cell_type": "code",
      "source": [
        "model.evaluate(x, y)"
      ],
      "metadata": {
        "colab": {
          "base_uri": "https://localhost:8080/"
        },
        "id": "uh13ki2twwiC",
        "outputId": "d7184027-1baf-4b4e-cb8e-316d07d79341"
      },
      "execution_count": null,
      "outputs": [
        {
          "output_type": "stream",
          "name": "stdout",
          "text": [
            "\u001b[1m14017/14017\u001b[0m \u001b[32m━━━━━━━━━━━━━━━━━━━━\u001b[0m\u001b[37m\u001b[0m \u001b[1m31s\u001b[0m 2ms/step - accuracy: 0.9970 - loss: 0.0113\n"
          ]
        },
        {
          "output_type": "execute_result",
          "data": {
            "text/plain": [
              "[0.01270474772900343, 0.9966422319412231]"
            ]
          },
          "metadata": {},
          "execution_count": 7
        }
      ]
    }
  ]
}